{
  "nbformat": 4,
  "nbformat_minor": 0,
  "metadata": {
    "colab": {
      "provenance": [],
      "authorship_tag": "ABX9TyPyBNzf7I2MVvH/lDEdpc08",
      "include_colab_link": true
    },
    "kernelspec": {
      "name": "python3",
      "display_name": "Python 3"
    },
    "language_info": {
      "name": "python"
    }
  },
  "cells": [
    {
      "cell_type": "markdown",
      "metadata": {
        "id": "view-in-github",
        "colab_type": "text"
      },
      "source": [
        "<a href=\"https://colab.research.google.com/github/keppy/WorldEnder.ai/blob/master/WorldEnder_ai_Presentation.ipynb\" target=\"_parent\"><img src=\"https://colab.research.google.com/assets/colab-badge.svg\" alt=\"Open In Colab\"/></a>"
      ]
    },
    {
      "cell_type": "code",
      "source": [
        "# Project Setup\n",
        "import os\n",
        "from pathlib import Path\n",
        "\n",
        "# Download files on colab\n",
        "if not Path(\"requirements.txt\").exists():\n",
        "    !wget https://raw.githubusercontent.com/keppy/WorldEnder.ai/master/requirements.txt\n",
        "    !pip install -r requirements.txt -Uqq\n",
        "if not Path(\"helpers.py\").exists():\n",
        "    !wget https://raw.githubusercontent.com/keppy/WorldEnder.ai/master/helpers.py\n",
        "\n",
        "import openai\n",
        "from getpass import getpass\n",
        "\n",
        "# Setup your Openai API key\n",
        "if os.getenv(\"OPENAI_API_KEY\") is None:\n",
        "  if any(['VSCODE' in x for x in os.environ.keys()]):\n",
        "    print('Please enter password in the VS Code prompt at the top of your VS Code window!')\n",
        "  os.environ[\"OPENAI_API_KEY\"] = getpass(\"Paste your OpenAI key from: https://platform.openai.com/account/api-keys\\n\")\n",
        "  openai.api_key = os.getenv(\"OPENAI_API_KEY\", \"\")\n",
        "\n",
        "assert os.getenv(\"OPENAI_API_KEY\", \"\").startswith(\"sk-\"), \"This doesn't look like a valid OpenAI API key\"\n",
        "print(\"OpenAI API key configured\")"
      ],
      "metadata": {
        "colab": {
          "base_uri": "https://localhost:8080/"
        },
        "id": "rJIGiHqaRW-e",
        "outputId": "eca71e4b-5935-433f-9941-22e298ee351a",
        "collapsed": true
      },
      "execution_count": null,
      "outputs": [
        {
          "output_type": "stream",
          "name": "stdout",
          "text": [
            "--2024-06-05 21:22:36--  https://raw.githubusercontent.com/keppy/WorldEnder.ai/master/requirements.txt\n",
            "Resolving raw.githubusercontent.com (raw.githubusercontent.com)... 185.199.109.133, 185.199.111.133, 185.199.108.133, ...\n",
            "Connecting to raw.githubusercontent.com (raw.githubusercontent.com)|185.199.109.133|:443... connected.\n",
            "HTTP request sent, awaiting response... 200 OK\n",
            "Length: 70 [text/plain]\n",
            "Saving to: ‘requirements.txt’\n",
            "\n",
            "\rrequirements.txt      0%[                    ]       0  --.-KB/s               \rrequirements.txt    100%[===================>]      70  --.-KB/s    in 0s      \n",
            "\n",
            "2024-06-05 21:22:37 (1.32 MB/s) - ‘requirements.txt’ saved [70/70]\n",
            "\n",
            "\u001b[2K     \u001b[90m━━━━━━━━━━━━━━━━━━━━━━━━━━━━━━━━━━━━━━━━\u001b[0m \u001b[32m101.8/101.8 kB\u001b[0m \u001b[31m3.3 MB/s\u001b[0m eta \u001b[36m0:00:00\u001b[0m\n",
            "\u001b[2K     \u001b[90m━━━━━━━━━━━━━━━━━━━━━━━━━━━━━━━━━━━━━━━━\u001b[0m \u001b[32m48.2/48.2 kB\u001b[0m \u001b[31m5.3 MB/s\u001b[0m eta \u001b[36m0:00:00\u001b[0m\n",
            "\u001b[2K     \u001b[90m━━━━━━━━━━━━━━━━━━━━━━━━━━━━━━━━━━━━━━━━\u001b[0m \u001b[32m324.1/324.1 kB\u001b[0m \u001b[31m7.7 MB/s\u001b[0m eta \u001b[36m0:00:00\u001b[0m\n",
            "\u001b[2K     \u001b[90m━━━━━━━━━━━━━━━━━━━━━━━━━━━━━━━━━━━━━━━━\u001b[0m \u001b[32m6.7/6.7 MB\u001b[0m \u001b[31m23.2 MB/s\u001b[0m eta \u001b[36m0:00:00\u001b[0m\n",
            "\u001b[2K     \u001b[90m━━━━━━━━━━━━━━━━━━━━━━━━━━━━━━━━━━━━━━━━\u001b[0m \u001b[32m75.6/75.6 kB\u001b[0m \u001b[31m11.5 MB/s\u001b[0m eta \u001b[36m0:00:00\u001b[0m\n",
            "\u001b[2K     \u001b[90m━━━━━━━━━━━━━━━━━━━━━━━━━━━━━━━━━━━━━━━━\u001b[0m \u001b[32m207.3/207.3 kB\u001b[0m \u001b[31m28.6 MB/s\u001b[0m eta \u001b[36m0:00:00\u001b[0m\n",
            "\u001b[2K     \u001b[90m━━━━━━━━━━━━━━━━━━━━━━━━━━━━━━━━━━━━━━━━\u001b[0m \u001b[32m289.2/289.2 kB\u001b[0m \u001b[31m36.2 MB/s\u001b[0m eta \u001b[36m0:00:00\u001b[0m\n",
            "\u001b[2K     \u001b[90m━━━━━━━━━━━━━━━━━━━━━━━━━━━━━━━━━━━━━━━━\u001b[0m \u001b[32m62.7/62.7 kB\u001b[0m \u001b[31m10.0 MB/s\u001b[0m eta \u001b[36m0:00:00\u001b[0m\n",
            "\u001b[2K     \u001b[90m━━━━━━━━━━━━━━━━━━━━━━━━━━━━━━━━━━━━━━━━\u001b[0m \u001b[32m77.9/77.9 kB\u001b[0m \u001b[31m13.1 MB/s\u001b[0m eta \u001b[36m0:00:00\u001b[0m\n",
            "\u001b[2K     \u001b[90m━━━━━━━━━━━━━━━━━━━━━━━━━━━━━━━━━━━━━━━━\u001b[0m \u001b[32m58.3/58.3 kB\u001b[0m \u001b[31m9.7 MB/s\u001b[0m eta \u001b[36m0:00:00\u001b[0m\n",
            "\u001b[?25h--2024-06-05 21:22:51--  https://raw.githubusercontent.com/keppy/WorldEnder.ai/master/helpers.py\n",
            "Resolving raw.githubusercontent.com (raw.githubusercontent.com)... 185.199.110.133, 185.199.111.133, 185.199.108.133, ...\n",
            "Connecting to raw.githubusercontent.com (raw.githubusercontent.com)|185.199.110.133|:443... connected.\n",
            "HTTP request sent, awaiting response... 200 OK\n",
            "Length: 994 [text/plain]\n",
            "Saving to: ‘helpers.py’\n",
            "\n",
            "helpers.py          100%[===================>]     994  --.-KB/s    in 0s      \n",
            "\n",
            "2024-06-05 21:22:51 (49.0 MB/s) - ‘helpers.py’ saved [994/994]\n",
            "\n",
            "Paste your OpenAI key from: https://platform.openai.com/account/api-keys\n",
            "··········\n",
            "OpenAI API key configured\n"
          ]
        }
      ]
    },
    {
      "cell_type": "markdown",
      "source": [
        "# WordlEnder.ai\n",
        "Presented by James Dominguez\n",
        "\n",
        "## Can LLMs replace backends?\n",
        "\n",
        "Let's look at some ways we as a community have grown.\n",
        "\n",
        "## 1. The dark ages: un-typed prompting\n",
        "\n",
        "In the begining, all we had was chatGPT and we would do something like the following if we wanted to get structured output:"
      ],
      "metadata": {
        "id": "KnSuJo-uMA-E"
      }
    },
    {
      "cell_type": "code",
      "execution_count": null,
      "metadata": {
        "colab": {
          "base_uri": "https://localhost:8080/"
        },
        "id": "AnZ9HLEXL9KJ",
        "outputId": "79d2f398-c455-4d7b-a73d-ee40f057976b"
      },
      "outputs": [
        {
          "output_type": "stream",
          "name": "stdout",
          "text": [
            "correctly parsed {\n",
            "  \"characters\": [\n",
            "    {\n",
            "      \"name\": \"Harry Potter\",\n",
            "      \"house\": \"Gryffindor\",\n",
            "      \"loyalty\": \"Dumbledore's Army\",\n",
            "      \"role\": \"Leader\"\n",
            "    },\n",
            "    {\n",
            "      \"name\": \"Hermione Granger\",\n",
            "      \"house\": \"Gryffindor\",\n",
            "      \"loyalty\": \"Dumbledore's Army\",\n",
            "      \"role\": \"Member\"\n",
            "    },\n",
            "    {\n",
            "      \"name\": \"Ron Weasley\",\n",
            "      \"house\": \"Gryffindor\",\n",
            "      \"loyalty\": \"Dumbledore's Army\",\n",
            "      \"role\": \"Member\"\n",
            "    },\n",
            "    {\n",
            "      \"name\": \"Albus Dumbledore\",\n",
            "      \"house\": \"Gryffindor\",\n",
            "      \"loyalty\": \"Order of the Phoenix\",\n",
            "      \"role\": \"Leader\"\n",
            "    },\n",
            "    {\n",
            "      \"name\": \"Severus Snape\",\n",
            "      \"house\": \"Slytherin\",\n",
            "      \"loyalty\": \"Order of the Phoenix\",\n",
            "      \"role\": \"Double Agent\"\n",
            "    }\n",
            "  ]\n",
            "}\n",
            "correctly parsed {\n",
            "  \"characters\": [\n",
            "    {\n",
            "      \"name\": \"Harry Potter\",\n",
            "      \"age\": 15,\n",
            "      \"house\": \"Gryffindor\",\n",
            "      \"role\": \"Member of Dumbledore's Army\"\n",
            "    },\n",
            "    {\n",
            "      \"name\": \"Hermione Granger\",\n",
            "      \"age\": 15,\n",
            "      \"house\": \"Gryffindor\",\n",
            "      \"role\": \"Member of Dumbledore's Army\"\n",
            "    },\n",
            "    {\n",
            "      \"name\": \"Ron Weasley\",\n",
            "      \"age\": 15,\n",
            "      \"house\": \"Gryffindor\",\n",
            "      \"role\": \"Member of Dumbledore's Army\"\n",
            "    },\n",
            "    {\n",
            "      \"name\": \"Albus Dumbledore\",\n",
            "      \"age\": 115,\n",
            "      \"role\": \"Leader of the Order of the Phoenix\"\n",
            "    },\n",
            "    {\n",
            "      \"name\": \"Sirius Black\",\n",
            "      \"age\": 36,\n",
            "      \"role\": \"Member of the Order of the Phoenix\"\n",
            "    },\n",
            "    {\n",
            "      \"name\": \"Remus Lupin\",\n",
            "      \"age\": 36,\n",
            "      \"role\": \"Member of the Order of the Phoenix\"\n",
            "    },\n",
            "    {\n",
            "      \"name\": \"Nymphadora Tonks\",\n",
            "      \"age\": \"\",\n",
            "      \"role\": \"Member of the Order of the Phoenix\"\n",
            "    },\n",
            "    {\n",
            "      \"name\": \"Molly Weasley\",\n",
            "      \"age\": \"\",\n",
            "      \"role\": \"Member of the Order of the Phoenix\"\n",
            "    }\n",
            "  ]\n",
            "}\n",
            "correctly parsed {\n",
            "  \"characters\": [\n",
            "    {\n",
            "      \"name\": \"Harry Potter\",\n",
            "      \"house\": \"Gryffindor\",\n",
            "      \"role\": \"leader of Dumbledore's Army\",\n",
            "      \"animagus\": false,\n",
            "      \"patronus\": \"stag\"\n",
            "    },\n",
            "    {\n",
            "      \"name\": \"Hermione Granger\",\n",
            "      \"house\": \"Gryffindor\",\n",
            "      \"role\": \"co-founder of Dumbledore's Army\",\n",
            "      \"animagus\": false,\n",
            "      \"patronus\": \"otter\"\n",
            "    },\n",
            "    {\n",
            "      \"name\": \"Ron Weasley\",\n",
            "      \"house\": \"Gryffindor\",\n",
            "      \"role\": \"member of Dumbledore's Army\",\n",
            "      \"animagus\": false,\n",
            "      \"patronus\": \"jack russell terrier\"\n",
            "    },\n",
            "    {\n",
            "      \"name\": \"Dolores Umbridge\",\n",
            "      \"house\": \"Slytherin\",\n",
            "      \"role\": \"Senior Undersecretary to the Minister for Magic\",\n",
            "      \"animagus\": false,\n",
            "      \"patronus\": null\n",
            "    },\n",
            "    {\n",
            "      \"name\": \"Severus Snape\",\n",
            "      \"house\": \"Slytherin\",\n",
            "      \"role\": \"Head of Slytherin House, member of the Order of the Phoenix\",\n",
            "      \"animagus\": false,\n",
            "      \"patronus\": \"doe\"\n",
            "    }\n",
            "  ]\n",
            "}\n",
            "correctly parsed {\n",
            "  \"characters\": [\n",
            "    {\n",
            "      \"name\": \"Harry Potter\",\n",
            "      \"house\": \"Gryffindor\",\n",
            "      \"role\": \"Leader of Dumbledore's Army\",\n",
            "      \"wand\": \"Holly and phoenix feather\"\n",
            "    },\n",
            "    {\n",
            "      \"name\": \"Hermione Granger\",\n",
            "      \"house\": \"Gryffindor\",\n",
            "      \"role\": \"Co-founder of Dumbledore's Army\",\n",
            "      \"wand\": \"Vine wood and dragon heartstring\"\n",
            "    },\n",
            "    {\n",
            "      \"name\": \"Ron Weasley\",\n",
            "      \"house\": \"Gryffindor\",\n",
            "      \"role\": \"Member of Dumbledore's Army\",\n",
            "      \"wand\": \"Willow and unicorn hair\"\n",
            "    },\n",
            "    {\n",
            "      \"name\": \"Ginny Weasley\",\n",
            "      \"house\": \"Gryffindor\",\n",
            "      \"role\": \"Member of Dumbledore's Army\",\n",
            "      \"wand\": \"Yew and phoenix feather\"\n",
            "    },\n",
            "    {\n",
            "      \"name\": \"Neville Longbottom\",\n",
            "      \"house\": \"Gryffindor\",\n",
            "      \"role\": \"Member of Dumbledore's Army\",\n",
            "      \"wand\": \"Cherry and unicorn hair\"\n",
            "    },\n",
            "    {\n",
            "      \"name\": \"Luna Lovegood\",\n",
            "      \"house\": \"Ravenclaw\",\n",
            "      \"role\": \"Member of Dumbledore's Army\",\n",
            "      \"wand\": \"Unknown wand wood and core\"\n",
            "    },\n",
            "    {\n",
            "      \"name\": \"Severus Snape\",\n",
            "      \"house\": \"Slytherin\",\n",
            "      \"role\": \"Member of the Order of the Phoenix\",\n",
            "      \"wand\": \"Unknown wand wood and core\"\n",
            "    },\n",
            "    {\n",
            "      \"name\": \"Minerva McGonagall\",\n",
            "      \"house\": \"Gryffindor\",\n",
            "      \"role\": \"Head of Gryffindor House\",\n",
            "      \"wand\": \"Fir and dragon heartstring\"\n",
            "    },\n",
            "    {\n",
            "      \"name\": \"Sirius Black\",\n",
            "      \"house\": \"Gryffindor\",\n",
            "      \"role\": \"Member of the Order of the Phoenix\",\n",
            "      \"wand\": \"Unknown wand wood and core\"\n",
            "    }\n",
            "  ]\n",
            "}\n",
            "correctly parsed {\n",
            "  \"characters\": [\n",
            "    {\n",
            "      \"name\": \"Harry Potter\",\n",
            "      \"house\": \"Gryffindor\",\n",
            "      \"role\": \"Student\",\n",
            "      \"wand\": \"Holly and phoenix feather core\",\n",
            "      \"patronus\": \"Stag\"\n",
            "    },\n",
            "    {\n",
            "      \"name\": \"Hermione Granger\",\n",
            "      \"house\": \"Gryffindor\",\n",
            "      \"role\": \"Student\",\n",
            "      \"wand\": \"Vine wood and dragon heartstring core\",\n",
            "      \"patronus\": \"Otter\"\n",
            "    },\n",
            "    {\n",
            "      \"name\": \"Ron Weasley\",\n",
            "      \"house\": \"Gryffindor\",\n",
            "      \"role\": \"Student\",\n",
            "      \"wand\": \"Willow and unicorn hair core\",\n",
            "      \"patronus\": \"Jack Russell Terrier\"\n",
            "    },\n",
            "    {\n",
            "      \"name\": \"Albus Dumbledore\",\n",
            "      \"house\": \"Gryffindor\",\n",
            "      \"role\": \"Headmaster\",\n",
            "      \"wand\": \"Elder and Thestral tail hair core\",\n",
            "      \"patronus\": \"Phoenix\"\n",
            "    },\n",
            "    {\n",
            "      \"name\": \"Sirius Black\",\n",
            "      \"house\": \"Gryffindor\",\n",
            "      \"role\": \"Member of the Order of the Phoenix\",\n",
            "      \"wand\": \"Unknown\",\n",
            "      \"patronus\": \"Unknown\"\n",
            "    }\n",
            "  ]\n",
            "}\n"
          ]
        }
      ],
      "source": [
        "from openai import OpenAI\n",
        "\n",
        "client = OpenAI()\n",
        "\n",
        "resp = client.chat.completions.create(\n",
        "    model=\"gpt-3.5-turbo\",\n",
        "    messages=[\n",
        "        {\"role\": \"user\", \"content\": \"Please give me character properties who were in the order of the phoenix as a json object ```json\\n\"},\n",
        "    ],\n",
        "    n=5,\n",
        "    temperature=1,\n",
        ")\n",
        "\n",
        "for choice in resp.choices:\n",
        "    json = choice.message.content\n",
        "    try:\n",
        "        person = json\n",
        "        print(f\"correctly parsed {person}\")\n",
        "    except Exception as e:\n",
        "        print(\"error!!\")\n",
        "        print(json)"
      ]
    },
    {
      "cell_type": "markdown",
      "source": [
        "You'll notice that the error rate surely has improved since the early days, however it's immediately obvious from a system design aspect that we have a few problems:\n",
        "    \n",
        "\n",
        "\n",
        "1.   The dictionary structure is random. We will have to have a lot of code to process and check these dictionaries and it will be brittle.\n",
        "2.   We aren't sure what types we will get in the properties. Note that we sometimes see the string \"Unknown\" and sometimes the value `null` for a missing property.\n",
        "3.  Ambiguity around what 'the order of the phoenix' is. Movie title, or fictional organization?\n",
        "\n",
        "```can\n",
        "    {\n",
        "      \"name\": \"Hermione Granger\",\n",
        "      \"house\": \"Gryffindor\",\n",
        "      \"loyalty\": \"Dumbledore's Army\",\n",
        "      \"role\": \"Member\"\n",
        "    }\n",
        "...\n",
        "    {\n",
        "      \"name\": \"Molly Weasley\",\n",
        "      \"age\": \"\",\n",
        "      \"role\": \"Member of the Order of the Phoenix\"\n",
        "...\n",
        "    {\n",
        "      \"name\": \"Severus Snape\",\n",
        "      \"house\": \"Slytherin\",\n",
        "      \"role\": \"Head of Slytherin House, member of the Order of the Phoenix\",\n",
        "      \"animagus\": false,\n",
        "      \"patronus\": \"doe\"\n",
        "    }\n",
        "...\n",
        "    {\n",
        "      \"name\": \"Neville Longbottom\",\n",
        "      \"house\": \"Gryffindor\",\n",
        "      \"role\": \"Member of Dumbledore's Army\",\n",
        "      \"wand\": \"Cherry and unicorn hair\"\n",
        "    }\n",
        "...\n",
        "    {\n",
        "      \"name\": \"Sirius Black\",\n",
        "      \"house\": \"Gryffindor\",\n",
        "      \"role\": \"Member of the Order of the Phoenix\",\n",
        "      \"wand\": \"Unknown\",\n",
        "      \"patronus\": \"Unknown\"\n",
        "    }\n",
        "\n",
        "```\n"
      ],
      "metadata": {
        "id": "xwA8N392TqH3"
      }
    },
    {
      "cell_type": "markdown",
      "source": [
        "## Finding Our Way; Pydantic\n",
        "\n",
        "In an ironic twist of fate an old-man of a library from the Python landscape has been reborn as the cool-kid on the block. I have observed seasoned Python backend programers in the wild lamenting \"why the sudden popularity of Pydantic?\", a library that was widely used for tasks like input validation and application configuration declaration.\n",
        "\n",
        "It turns out Pydantic grew into and powerful data validation library, and when PEP 593 introduced Annotated to Python in 2019, Pydantic took full advantage of the ability to attach runtime metadata to types without changing how type checkers interpret them."
      ],
      "metadata": {
        "id": "tnq8prR6nBDi"
      }
    },
    {
      "cell_type": "code",
      "source": [
        "from pydantic import BaseModel\n",
        "\n",
        "class Wizard(BaseModel):\n",
        "    \"\"\"\n",
        "    A non-muggle character from the Harry Potter universe\n",
        "    \"\"\"\n",
        "    name: str\n",
        "    age: int\n",
        "    house: str\n",
        "    role: str\n",
        "\n",
        "harry = Wizard(name=\"Harry Potter\", age=\"15\", house=\"Gryffindor\", role=\"Dumbledore's Army\")\n",
        "print(harry)"
      ],
      "metadata": {
        "colab": {
          "base_uri": "https://localhost:8080/"
        },
        "id": "di7WN5X5sHwr",
        "outputId": "ca60b0ee-e577-4430-d8f9-f69a1386dee5"
      },
      "execution_count": null,
      "outputs": [
        {
          "output_type": "stream",
          "name": "stdout",
          "text": [
            "name='Harry Potter' age=15 house='Gryffindor' role=\"Dumbledore's Army\"\n"
          ]
        }
      ]
    },
    {
      "cell_type": "markdown",
      "source": [
        "Note how when we pass in an argument that is the wrong type for `age`; Pydantic is smart enough to cast incorrect types to the correct type."
      ],
      "metadata": {
        "id": "7En5UkIfzHiD"
      }
    },
    {
      "cell_type": "markdown",
      "source": [],
      "metadata": {
        "id": "_RPtr6u57vOe"
      }
    },
    {
      "cell_type": "markdown",
      "source": [
        "## Seeing The Light: Function Calling\n",
        "\n",
        "There now exists a subset of large language models that are fine tuned to accept JSON schemas as input and return JSON as output. We can take advantage of this by using the inherent nature of our class. `BaseModel` gives us the ability to call `.model_json_schema()`; the OpenAI API lets us pass in the JSON schema description of a function, the model is trained to return appropriate arguments which **you** will call the function with."
      ],
      "metadata": {
        "id": "U-TlHIuqzIZt"
      }
    },
    {
      "cell_type": "code",
      "source": [
        "Wizard.model_json_schema()"
      ],
      "metadata": {
        "colab": {
          "base_uri": "https://localhost:8080/"
        },
        "id": "M1dKBrl0GWC3",
        "outputId": "450f8d31-845e-499a-d2b3-b874b2b908c3"
      },
      "execution_count": null,
      "outputs": [
        {
          "output_type": "execute_result",
          "data": {
            "text/plain": [
              "{'description': 'A non-muggle character from the Harry Potter universe',\n",
              " 'properties': {'name': {'title': 'Name', 'type': 'string'},\n",
              "  'age': {'title': 'Age', 'type': 'integer'},\n",
              "  'house': {'title': 'House', 'type': 'string'},\n",
              "  'role': {'title': 'Role', 'type': 'string'}},\n",
              " 'required': ['name', 'age', 'house', 'role'],\n",
              " 'title': 'Wizard',\n",
              " 'type': 'object'}"
            ]
          },
          "metadata": {},
          "execution_count": 10
        }
      ]
    },
    {
      "cell_type": "markdown",
      "source": [
        "For our purposes it's important to note that the description is part of the JSON schema, and thus it will be used as input for the LLM. This is a cornerstone of WorldEnder.ai as we lean heavily on descriptions to guide the LLM towards generating content that fulfills the needs of our game logic and the user's unique narritive input.\n",
        "\n",
        "Under the hood when we call the OpenAI API we define a `tools` array that holds our JSON schemas. Since functions are objects in Python we can pass our `Wizard` JSON schema and it will be valid as a `tool`--modern LLMs that are conforming to the OpenAI API can work with different tool modes read here for more in depth information: https://platform.openai.com/docs/guides/function-calling"
      ],
      "metadata": {
        "id": "tWDV38bBG5aI"
      }
    },
    {
      "cell_type": "markdown",
      "source": [
        "## instructor\n",
        "\n",
        "Instead of building up a tools array by hand with results from `.model_json_schema()` and validating results by hand with Pydantic, we can use a library called instructor which allows us to pass a new parameter to the AI client called `response_model`.*italicized text*"
      ],
      "metadata": {
        "id": "N2Uqu0nxjmVU"
      }
    },
    {
      "cell_type": "markdown",
      "source": [
        "## Simulation Algorithm\n",
        "\n",
        "\n",
        "1.  Generate an `Event` from a text player query that has a list of possible `Outcomes`\n",
        "2.  The player sees *only* a list of 3-5 `choices` per `Outcome`–predicted to cause each `Outcome`\n",
        "3.  The player selects one `choice`–the string is fed back into the `Event` generator (1.) as a new player query\n",
        "4.  After *x* cycles of player multiple choice prompting, the final model outputs a `WorldEnder` prediction\n",
        "\n"
      ],
      "metadata": {
        "id": "3L2kzvAVPZtX"
      }
    }
  ]
}