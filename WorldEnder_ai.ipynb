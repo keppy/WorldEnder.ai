{
  "nbformat": 4,
  "nbformat_minor": 0,
  "metadata": {
    "colab": {
      "provenance": [],
      "authorship_tag": "ABX9TyNuIQZlFj/g95q8z4BVvQHR",
      "include_colab_link": true
    },
    "kernelspec": {
      "name": "python3",
      "display_name": "Python 3"
    },
    "language_info": {
      "name": "python"
    },
    "widgets": {
      "application/vnd.jupyter.widget-state+json": {
        "392cf28a9dcc48ca9827cf2cab90150c": {
          "model_module": "@jupyter-widgets/controls",
          "model_name": "VBoxModel",
          "model_module_version": "1.5.0",
          "state": {
            "_dom_classes": [],
            "_model_module": "@jupyter-widgets/controls",
            "_model_module_version": "1.5.0",
            "_model_name": "VBoxModel",
            "_view_count": null,
            "_view_module": "@jupyter-widgets/controls",
            "_view_module_version": "1.5.0",
            "_view_name": "VBoxView",
            "box_style": "",
            "children": [
              "IPY_MODEL_b1c7a6d788494cf2afe66a5af790390c",
              "IPY_MODEL_7e04d57c80d84a2581eaf14f916ca9a9"
            ],
            "layout": "IPY_MODEL_0a083b59e8a0428aa40c28752dae6627"
          }
        },
        "b1c7a6d788494cf2afe66a5af790390c": {
          "model_module": "@jupyter-widgets/controls",
          "model_name": "LabelModel",
          "model_module_version": "1.5.0",
          "state": {
            "_dom_classes": [],
            "_model_module": "@jupyter-widgets/controls",
            "_model_module_version": "1.5.0",
            "_model_name": "LabelModel",
            "_view_count": null,
            "_view_module": "@jupyter-widgets/controls",
            "_view_module_version": "1.5.0",
            "_view_name": "LabelView",
            "description": "",
            "description_tooltip": null,
            "layout": "IPY_MODEL_6086808cc205437ba5fa059adcb7123b",
            "placeholder": "​",
            "style": "IPY_MODEL_37f8e7074207449c9afd257ce9f3c67d",
            "value": "0.015 MB of 0.015 MB uploaded\r"
          }
        },
        "7e04d57c80d84a2581eaf14f916ca9a9": {
          "model_module": "@jupyter-widgets/controls",
          "model_name": "FloatProgressModel",
          "model_module_version": "1.5.0",
          "state": {
            "_dom_classes": [],
            "_model_module": "@jupyter-widgets/controls",
            "_model_module_version": "1.5.0",
            "_model_name": "FloatProgressModel",
            "_view_count": null,
            "_view_module": "@jupyter-widgets/controls",
            "_view_module_version": "1.5.0",
            "_view_name": "ProgressView",
            "bar_style": "",
            "description": "",
            "description_tooltip": null,
            "layout": "IPY_MODEL_3a6862cba22c4ab684a6033359acce27",
            "max": 1,
            "min": 0,
            "orientation": "horizontal",
            "style": "IPY_MODEL_4a678e1cfa4c4cac87dc799a311a7649",
            "value": 1
          }
        },
        "0a083b59e8a0428aa40c28752dae6627": {
          "model_module": "@jupyter-widgets/base",
          "model_name": "LayoutModel",
          "model_module_version": "1.2.0",
          "state": {
            "_model_module": "@jupyter-widgets/base",
            "_model_module_version": "1.2.0",
            "_model_name": "LayoutModel",
            "_view_count": null,
            "_view_module": "@jupyter-widgets/base",
            "_view_module_version": "1.2.0",
            "_view_name": "LayoutView",
            "align_content": null,
            "align_items": null,
            "align_self": null,
            "border": null,
            "bottom": null,
            "display": null,
            "flex": null,
            "flex_flow": null,
            "grid_area": null,
            "grid_auto_columns": null,
            "grid_auto_flow": null,
            "grid_auto_rows": null,
            "grid_column": null,
            "grid_gap": null,
            "grid_row": null,
            "grid_template_areas": null,
            "grid_template_columns": null,
            "grid_template_rows": null,
            "height": null,
            "justify_content": null,
            "justify_items": null,
            "left": null,
            "margin": null,
            "max_height": null,
            "max_width": null,
            "min_height": null,
            "min_width": null,
            "object_fit": null,
            "object_position": null,
            "order": null,
            "overflow": null,
            "overflow_x": null,
            "overflow_y": null,
            "padding": null,
            "right": null,
            "top": null,
            "visibility": null,
            "width": null
          }
        },
        "6086808cc205437ba5fa059adcb7123b": {
          "model_module": "@jupyter-widgets/base",
          "model_name": "LayoutModel",
          "model_module_version": "1.2.0",
          "state": {
            "_model_module": "@jupyter-widgets/base",
            "_model_module_version": "1.2.0",
            "_model_name": "LayoutModel",
            "_view_count": null,
            "_view_module": "@jupyter-widgets/base",
            "_view_module_version": "1.2.0",
            "_view_name": "LayoutView",
            "align_content": null,
            "align_items": null,
            "align_self": null,
            "border": null,
            "bottom": null,
            "display": null,
            "flex": null,
            "flex_flow": null,
            "grid_area": null,
            "grid_auto_columns": null,
            "grid_auto_flow": null,
            "grid_auto_rows": null,
            "grid_column": null,
            "grid_gap": null,
            "grid_row": null,
            "grid_template_areas": null,
            "grid_template_columns": null,
            "grid_template_rows": null,
            "height": null,
            "justify_content": null,
            "justify_items": null,
            "left": null,
            "margin": null,
            "max_height": null,
            "max_width": null,
            "min_height": null,
            "min_width": null,
            "object_fit": null,
            "object_position": null,
            "order": null,
            "overflow": null,
            "overflow_x": null,
            "overflow_y": null,
            "padding": null,
            "right": null,
            "top": null,
            "visibility": null,
            "width": null
          }
        },
        "37f8e7074207449c9afd257ce9f3c67d": {
          "model_module": "@jupyter-widgets/controls",
          "model_name": "DescriptionStyleModel",
          "model_module_version": "1.5.0",
          "state": {
            "_model_module": "@jupyter-widgets/controls",
            "_model_module_version": "1.5.0",
            "_model_name": "DescriptionStyleModel",
            "_view_count": null,
            "_view_module": "@jupyter-widgets/base",
            "_view_module_version": "1.2.0",
            "_view_name": "StyleView",
            "description_width": ""
          }
        },
        "3a6862cba22c4ab684a6033359acce27": {
          "model_module": "@jupyter-widgets/base",
          "model_name": "LayoutModel",
          "model_module_version": "1.2.0",
          "state": {
            "_model_module": "@jupyter-widgets/base",
            "_model_module_version": "1.2.0",
            "_model_name": "LayoutModel",
            "_view_count": null,
            "_view_module": "@jupyter-widgets/base",
            "_view_module_version": "1.2.0",
            "_view_name": "LayoutView",
            "align_content": null,
            "align_items": null,
            "align_self": null,
            "border": null,
            "bottom": null,
            "display": null,
            "flex": null,
            "flex_flow": null,
            "grid_area": null,
            "grid_auto_columns": null,
            "grid_auto_flow": null,
            "grid_auto_rows": null,
            "grid_column": null,
            "grid_gap": null,
            "grid_row": null,
            "grid_template_areas": null,
            "grid_template_columns": null,
            "grid_template_rows": null,
            "height": null,
            "justify_content": null,
            "justify_items": null,
            "left": null,
            "margin": null,
            "max_height": null,
            "max_width": null,
            "min_height": null,
            "min_width": null,
            "object_fit": null,
            "object_position": null,
            "order": null,
            "overflow": null,
            "overflow_x": null,
            "overflow_y": null,
            "padding": null,
            "right": null,
            "top": null,
            "visibility": null,
            "width": null
          }
        },
        "4a678e1cfa4c4cac87dc799a311a7649": {
          "model_module": "@jupyter-widgets/controls",
          "model_name": "ProgressStyleModel",
          "model_module_version": "1.5.0",
          "state": {
            "_model_module": "@jupyter-widgets/controls",
            "_model_module_version": "1.5.0",
            "_model_name": "ProgressStyleModel",
            "_view_count": null,
            "_view_module": "@jupyter-widgets/base",
            "_view_module_version": "1.2.0",
            "_view_name": "StyleView",
            "bar_color": null,
            "description_width": ""
          }
        },
        "8b006eab1f8a470da4d19046952bd101": {
          "model_module": "@jupyter-widgets/controls",
          "model_name": "VBoxModel",
          "model_module_version": "1.5.0",
          "state": {
            "_dom_classes": [],
            "_model_module": "@jupyter-widgets/controls",
            "_model_module_version": "1.5.0",
            "_model_name": "VBoxModel",
            "_view_count": null,
            "_view_module": "@jupyter-widgets/controls",
            "_view_module_version": "1.5.0",
            "_view_name": "VBoxView",
            "box_style": "",
            "children": [
              "IPY_MODEL_ce7eb9a70eb048d1a39ff2b6a95442d3",
              "IPY_MODEL_6da745df439047038dff03012c951777"
            ],
            "layout": "IPY_MODEL_6884941218f44e97a926ef03346801c2"
          }
        },
        "ce7eb9a70eb048d1a39ff2b6a95442d3": {
          "model_module": "@jupyter-widgets/controls",
          "model_name": "LabelModel",
          "model_module_version": "1.5.0",
          "state": {
            "_dom_classes": [],
            "_model_module": "@jupyter-widgets/controls",
            "_model_module_version": "1.5.0",
            "_model_name": "LabelModel",
            "_view_count": null,
            "_view_module": "@jupyter-widgets/controls",
            "_view_module_version": "1.5.0",
            "_view_name": "LabelView",
            "description": "",
            "description_tooltip": null,
            "layout": "IPY_MODEL_4dc55bb3e0f1435db522987a6b49c39a",
            "placeholder": "​",
            "style": "IPY_MODEL_416bc73703ee42f8accfbec4701535c9",
            "value": "0.074 MB of 0.074 MB uploaded (0.002 MB deduped)\r"
          }
        },
        "6da745df439047038dff03012c951777": {
          "model_module": "@jupyter-widgets/controls",
          "model_name": "FloatProgressModel",
          "model_module_version": "1.5.0",
          "state": {
            "_dom_classes": [],
            "_model_module": "@jupyter-widgets/controls",
            "_model_module_version": "1.5.0",
            "_model_name": "FloatProgressModel",
            "_view_count": null,
            "_view_module": "@jupyter-widgets/controls",
            "_view_module_version": "1.5.0",
            "_view_name": "ProgressView",
            "bar_style": "",
            "description": "",
            "description_tooltip": null,
            "layout": "IPY_MODEL_0ad386fd67ed488086bf3460c5ef96e9",
            "max": 1,
            "min": 0,
            "orientation": "horizontal",
            "style": "IPY_MODEL_6e3f1825d7eb4457831106eff0fad2e6",
            "value": 1
          }
        },
        "6884941218f44e97a926ef03346801c2": {
          "model_module": "@jupyter-widgets/base",
          "model_name": "LayoutModel",
          "model_module_version": "1.2.0",
          "state": {
            "_model_module": "@jupyter-widgets/base",
            "_model_module_version": "1.2.0",
            "_model_name": "LayoutModel",
            "_view_count": null,
            "_view_module": "@jupyter-widgets/base",
            "_view_module_version": "1.2.0",
            "_view_name": "LayoutView",
            "align_content": null,
            "align_items": null,
            "align_self": null,
            "border": null,
            "bottom": null,
            "display": null,
            "flex": null,
            "flex_flow": null,
            "grid_area": null,
            "grid_auto_columns": null,
            "grid_auto_flow": null,
            "grid_auto_rows": null,
            "grid_column": null,
            "grid_gap": null,
            "grid_row": null,
            "grid_template_areas": null,
            "grid_template_columns": null,
            "grid_template_rows": null,
            "height": null,
            "justify_content": null,
            "justify_items": null,
            "left": null,
            "margin": null,
            "max_height": null,
            "max_width": null,
            "min_height": null,
            "min_width": null,
            "object_fit": null,
            "object_position": null,
            "order": null,
            "overflow": null,
            "overflow_x": null,
            "overflow_y": null,
            "padding": null,
            "right": null,
            "top": null,
            "visibility": null,
            "width": null
          }
        },
        "4dc55bb3e0f1435db522987a6b49c39a": {
          "model_module": "@jupyter-widgets/base",
          "model_name": "LayoutModel",
          "model_module_version": "1.2.0",
          "state": {
            "_model_module": "@jupyter-widgets/base",
            "_model_module_version": "1.2.0",
            "_model_name": "LayoutModel",
            "_view_count": null,
            "_view_module": "@jupyter-widgets/base",
            "_view_module_version": "1.2.0",
            "_view_name": "LayoutView",
            "align_content": null,
            "align_items": null,
            "align_self": null,
            "border": null,
            "bottom": null,
            "display": null,
            "flex": null,
            "flex_flow": null,
            "grid_area": null,
            "grid_auto_columns": null,
            "grid_auto_flow": null,
            "grid_auto_rows": null,
            "grid_column": null,
            "grid_gap": null,
            "grid_row": null,
            "grid_template_areas": null,
            "grid_template_columns": null,
            "grid_template_rows": null,
            "height": null,
            "justify_content": null,
            "justify_items": null,
            "left": null,
            "margin": null,
            "max_height": null,
            "max_width": null,
            "min_height": null,
            "min_width": null,
            "object_fit": null,
            "object_position": null,
            "order": null,
            "overflow": null,
            "overflow_x": null,
            "overflow_y": null,
            "padding": null,
            "right": null,
            "top": null,
            "visibility": null,
            "width": null
          }
        },
        "416bc73703ee42f8accfbec4701535c9": {
          "model_module": "@jupyter-widgets/controls",
          "model_name": "DescriptionStyleModel",
          "model_module_version": "1.5.0",
          "state": {
            "_model_module": "@jupyter-widgets/controls",
            "_model_module_version": "1.5.0",
            "_model_name": "DescriptionStyleModel",
            "_view_count": null,
            "_view_module": "@jupyter-widgets/base",
            "_view_module_version": "1.2.0",
            "_view_name": "StyleView",
            "description_width": ""
          }
        },
        "0ad386fd67ed488086bf3460c5ef96e9": {
          "model_module": "@jupyter-widgets/base",
          "model_name": "LayoutModel",
          "model_module_version": "1.2.0",
          "state": {
            "_model_module": "@jupyter-widgets/base",
            "_model_module_version": "1.2.0",
            "_model_name": "LayoutModel",
            "_view_count": null,
            "_view_module": "@jupyter-widgets/base",
            "_view_module_version": "1.2.0",
            "_view_name": "LayoutView",
            "align_content": null,
            "align_items": null,
            "align_self": null,
            "border": null,
            "bottom": null,
            "display": null,
            "flex": null,
            "flex_flow": null,
            "grid_area": null,
            "grid_auto_columns": null,
            "grid_auto_flow": null,
            "grid_auto_rows": null,
            "grid_column": null,
            "grid_gap": null,
            "grid_row": null,
            "grid_template_areas": null,
            "grid_template_columns": null,
            "grid_template_rows": null,
            "height": null,
            "justify_content": null,
            "justify_items": null,
            "left": null,
            "margin": null,
            "max_height": null,
            "max_width": null,
            "min_height": null,
            "min_width": null,
            "object_fit": null,
            "object_position": null,
            "order": null,
            "overflow": null,
            "overflow_x": null,
            "overflow_y": null,
            "padding": null,
            "right": null,
            "top": null,
            "visibility": null,
            "width": null
          }
        },
        "6e3f1825d7eb4457831106eff0fad2e6": {
          "model_module": "@jupyter-widgets/controls",
          "model_name": "ProgressStyleModel",
          "model_module_version": "1.5.0",
          "state": {
            "_model_module": "@jupyter-widgets/controls",
            "_model_module_version": "1.5.0",
            "_model_name": "ProgressStyleModel",
            "_view_count": null,
            "_view_module": "@jupyter-widgets/base",
            "_view_module_version": "1.2.0",
            "_view_name": "StyleView",
            "bar_color": null,
            "description_width": ""
          }
        }
      }
    }
  },
  "cells": [
    {
      "cell_type": "markdown",
      "metadata": {
        "id": "view-in-github",
        "colab_type": "text"
      },
      "source": [
        "<a href=\"https://colab.research.google.com/github/keppy/WorldEnder.ai/blob/master/WorldEnder_ai.ipynb\" target=\"_parent\"><img src=\"https://colab.research.google.com/assets/colab-badge.svg\" alt=\"Open In Colab\"/></a>"
      ]
    },
    {
      "cell_type": "markdown",
      "source": [
        "# WorldEnder.ai\n",
        "1. Describe your world ending scenario & pick a ground zero location\n",
        "2. Use the save button to save your game and share the playthrough"
      ],
      "metadata": {
        "id": "hCI4AoZz3iXj"
      }
    },
    {
      "cell_type": "code",
      "source": [
        "from pathlib import Path\n",
        "\n",
        "# Download files on colab\n",
        "if not Path(\"requirements.txt\").exists():\n",
        "    !wget https://raw.githubusercontent.com/keppy/WorldEnder.ai/master/requirements.txt\n",
        "    !pip install -r requirements.txt -Uqq\n",
        "if not Path(\"helpers.py\").exists():\n",
        "    !wget https://raw.githubusercontent.com/keppy/WorldEnder.ai/master/helpers.py"
      ],
      "metadata": {
        "id": "Qo2Ea-sQ4L7Y",
        "colab": {
          "base_uri": "https://localhost:8080/"
        },
        "outputId": "f19313ce-10c1-499b-ce1f-20a2ff1e22bf"
      },
      "execution_count": 1,
      "outputs": [
        {
          "output_type": "stream",
          "name": "stdout",
          "text": [
            "--2024-05-09 05:14:08--  https://raw.githubusercontent.com/keppy/WorldEnder.ai/master/requirements.txt\n",
            "Resolving raw.githubusercontent.com (raw.githubusercontent.com)... 185.199.110.133, 185.199.109.133, 185.199.108.133, ...\n",
            "Connecting to raw.githubusercontent.com (raw.githubusercontent.com)|185.199.110.133|:443... connected.\n",
            "HTTP request sent, awaiting response... 200 OK\n",
            "Length: 49 [text/plain]\n",
            "Saving to: ‘requirements.txt’\n",
            "\n",
            "\rrequirements.txt      0%[                    ]       0  --.-KB/s               \rrequirements.txt    100%[===================>]      49  --.-KB/s    in 0s      \n",
            "\n",
            "2024-05-09 05:14:09 (447 KB/s) - ‘requirements.txt’ saved [49/49]\n",
            "\n",
            "\u001b[2K     \u001b[90m━━━━━━━━━━━━━━━━━━━━━━━━━━━━━━━━━━━━━━━━\u001b[0m \u001b[32m45.7/45.7 kB\u001b[0m \u001b[31m1.2 MB/s\u001b[0m eta \u001b[36m0:00:00\u001b[0m\n",
            "\u001b[2K     \u001b[90m━━━━━━━━━━━━━━━━━━━━━━━━━━━━━━━━━━━━━━━━\u001b[0m \u001b[32m314.1/314.1 kB\u001b[0m \u001b[31m8.2 MB/s\u001b[0m eta \u001b[36m0:00:00\u001b[0m\n",
            "\u001b[2K     \u001b[90m━━━━━━━━━━━━━━━━━━━━━━━━━━━━━━━━━━━━━━━━\u001b[0m \u001b[32m6.7/6.7 MB\u001b[0m \u001b[31m25.4 MB/s\u001b[0m eta \u001b[36m0:00:00\u001b[0m\n",
            "\u001b[2K     \u001b[90m━━━━━━━━━━━━━━━━━━━━━━━━━━━━━━━━━━━━━━━━\u001b[0m \u001b[32m75.6/75.6 kB\u001b[0m \u001b[31m3.7 MB/s\u001b[0m eta \u001b[36m0:00:00\u001b[0m\n",
            "\u001b[2K     \u001b[90m━━━━━━━━━━━━━━━━━━━━━━━━━━━━━━━━━━━━━━━━\u001b[0m \u001b[32m207.3/207.3 kB\u001b[0m \u001b[31m10.2 MB/s\u001b[0m eta \u001b[36m0:00:00\u001b[0m\n",
            "\u001b[2K     \u001b[90m━━━━━━━━━━━━━━━━━━━━━━━━━━━━━━━━━━━━━━━━\u001b[0m \u001b[32m277.3/277.3 kB\u001b[0m \u001b[31m10.9 MB/s\u001b[0m eta \u001b[36m0:00:00\u001b[0m\n",
            "\u001b[2K     \u001b[90m━━━━━━━━━━━━━━━━━━━━━━━━━━━━━━━━━━━━━━━━\u001b[0m \u001b[32m62.7/62.7 kB\u001b[0m \u001b[31m3.5 MB/s\u001b[0m eta \u001b[36m0:00:00\u001b[0m\n",
            "\u001b[2K     \u001b[90m━━━━━━━━━━━━━━━━━━━━━━━━━━━━━━━━━━━━━━━━\u001b[0m \u001b[32m77.9/77.9 kB\u001b[0m \u001b[31m3.4 MB/s\u001b[0m eta \u001b[36m0:00:00\u001b[0m\n",
            "\u001b[2K     \u001b[90m━━━━━━━━━━━━━━━━━━━━━━━━━━━━━━━━━━━━━━━━\u001b[0m \u001b[32m58.3/58.3 kB\u001b[0m \u001b[31m2.7 MB/s\u001b[0m eta \u001b[36m0:00:00\u001b[0m\n",
            "\u001b[?25h--2024-05-09 05:14:36--  https://raw.githubusercontent.com/keppy/WorldEnder.ai/master/helpers.py\n",
            "Resolving raw.githubusercontent.com (raw.githubusercontent.com)... 185.199.111.133, 185.199.110.133, 185.199.108.133, ...\n",
            "Connecting to raw.githubusercontent.com (raw.githubusercontent.com)|185.199.111.133|:443... connected.\n",
            "HTTP request sent, awaiting response... 200 OK\n",
            "Length: 994 [text/plain]\n",
            "Saving to: ‘helpers.py’\n",
            "\n",
            "helpers.py          100%[===================>]     994  --.-KB/s    in 0s      \n",
            "\n",
            "2024-05-09 05:14:37 (45.3 MB/s) - ‘helpers.py’ saved [994/994]\n",
            "\n"
          ]
        }
      ]
    },
    {
      "cell_type": "code",
      "source": [
        "import os\n",
        "from getpass import getpass\n",
        "import openai\n",
        "\n",
        "# Setup your Openai API key\n",
        "if os.getenv(\"OPENAI_API_KEY\") is None:\n",
        "  if any(['VSCODE' in x for x in os.environ.keys()]):\n",
        "    print('Please enter password in the VS Code prompt at the top of your VS Code window!')\n",
        "  os.environ[\"OPENAI_API_KEY\"] = getpass(\"Paste your OpenAI key from: https://platform.openai.com/account/api-keys\\n\")\n",
        "  openai.api_key = os.getenv(\"OPENAI_API_KEY\", \"\")\n",
        "\n",
        "assert os.getenv(\"OPENAI_API_KEY\", \"\").startswith(\"sk-\"), \"This doesn't look like a valid OpenAI API key\"\n",
        "print(\"OpenAI API key configured\")"
      ],
      "metadata": {
        "colab": {
          "base_uri": "https://localhost:8080/"
        },
        "id": "brBM4r9M59CF",
        "outputId": "6b8e9803-9c4e-47ec-84c6-d3b9eb3e8b35"
      },
      "execution_count": 2,
      "outputs": [
        {
          "output_type": "stream",
          "name": "stdout",
          "text": [
            "Paste your OpenAI key from: https://platform.openai.com/account/api-keys\n",
            "··········\n",
            "OpenAI API key configured\n"
          ]
        }
      ]
    },
    {
      "cell_type": "code",
      "source": [
        "from bs4 import BeautifulSoup\n",
        "import urllib\n",
        "html_doc = urllib.request.urlopen(\"https://www.aljazeera.com/\")\n",
        "soup = BeautifulSoup(html_doc, 'html.parser')"
      ],
      "metadata": {
        "id": "mLOOdQWshEzy"
      },
      "execution_count": 3,
      "outputs": []
    },
    {
      "cell_type": "code",
      "source": [
        "sorted_stripped_and_deduped = list(dict.fromkeys(soup.stripped_strings))\n",
        "for string in sorted_stripped_and_deduped:\n",
        "    print(string)\n",
        "context = str.join(\", \",sorted_stripped_and_deduped)"
      ],
      "metadata": {
        "colab": {
          "base_uri": "https://localhost:8080/"
        },
        "id": "zxKAutLgiRqe",
        "outputId": "27243733-4459-4b35-dd05-3cb92239a30e"
      },
      "execution_count": 6,
      "outputs": [
        {
          "output_type": "stream",
          "name": "stdout",
          "text": [
            "Breaking News, World News and Video from Al Jazeera\n",
            "Skip links\n",
            "Skip to Featured Content\n",
            "Skip to Content Feed\n",
            "Skip to Most Read\n",
            "Al Jazeera, link to home page\n",
            "play\n",
            "Live\n",
            "Show navigation menu\n",
            "Navigation menu\n",
            "News\n",
            "Show more news sections\n",
            "Middle East\n",
            "Africa\n",
            "Asia\n",
            "US & Canada\n",
            "Latin America\n",
            "Europe\n",
            "Asia Pacific\n",
            "Israel War on Gaza\n",
            "Features\n",
            "Opinion\n",
            "Video\n",
            "More\n",
            "Show more sections\n",
            "Economy\n",
            "Ukraine war\n",
            "Coronavirus\n",
            "Climate Crisis\n",
            "Investigations\n",
            "Interactives\n",
            "In Pictures\n",
            "Science & Technology\n",
            "Sport\n",
            "Podcasts\n",
            "Click here to search\n",
            "search\n",
            "Featured Content\n",
            "blinking-dot\n",
            "Live updates\n",
            "Live updates,\n",
            "US threatens to halt arms supplies as Israel presses attack on Gaza’s Rafah\n",
            "list 1 of 6\n",
            "live-orange\n",
            "Published 16 minutes ago\n",
            "16m ago\n",
            "If you’re just joining us\n",
            "list 2 of 6\n",
            "Published 31 minutes ago\n",
            "31m ago\n",
            "Syria says Israeli missiles fired at Damascus shot down: Report\n",
            "list 3 of 6\n",
            "Published 46 minutes ago\n",
            "46m ago\n",
            "Norwegian Refugee Council says none of its trucks passed through Karem Abu Salem crossing\n",
            "list 4 of 6\n",
            "Published 1 hours ago\n",
            "1h ago\n",
            "Many women and children killed in Israeli attacks on Rafah: UN report\n",
            "list 5 of 6\n",
            "CIA chief returns to Cairo after Netanyahu meeting\n",
            "list 6 of 6\n",
            "Israeli military announces death of soldier in northern Israel\n",
            "Pentagon chief confirms US pause on weapons shipment to Israel\n",
            "After decades of decline, Air India is betting billions on a comeback\n",
            "Hospitals in south Gaza running out of fuel, WHO warns\n",
            "Fiji’s former Prime Minister Frank Bainimarama jailed for a year\n",
            "Russia-Ukraine war: List of key events, day 805\n",
            "Ukraine parliament passes bill for prisoners to join army\n",
            "Brazil flooding death toll hits 100 as government pledges aid\n",
            "Must Read\n",
            "‘My vote snatched’: India election clouded by mysterious candidate pullouts\n",
            "How food and chopstick skills are helping ease US-China tensions\n",
            "In the US South, pro-Palestinians face crackdown on campus and in streets\n",
            "Explained\n",
            "Will the US adopt IHRA’s anti-Semitism definition? What’s the controversy?\n",
            "Should India take from the rich, give the poor? A new election flashpoint\n",
            "Pro-Palestine protests: How some universities reached deals with students\n",
            "The US and Israel are playing a dangerous game\n",
            "quotes\n",
            "Opinion by Daoud Kuttab\n",
            "Daoud Kuttab\n",
            "Peace starts with Palestine’s UN membership\n",
            "Opinion by Jeffrey Sachs and Sybil Fares\n",
            "Jeffrey Sachs\n",
            "|\n",
            "Sybil Fares\n",
            "Watch Latest Videos\n",
            "Border closure means injured Palestinians can’t leave Gaza\n",
            "play-arrow\n",
            "Video Duration\n",
            "02 minutes 41 seconds\n",
            "02:41\n",
            "Arizona professor on leave after harassment of Muslim woman\n",
            "00 minutes 55 seconds\n",
            "00:55\n",
            "Scores killed and thousands displaced by Brazil’s floods\n",
            "02 minutes 03 seconds\n",
            "02:03\n",
            "‘Hands off Rafah’ say protesters in New York\n",
            "01 minutes 45 seconds\n",
            "01:45\n",
            "Content Feed\n",
            "‘The goal is to destroy Gaza’: Why Israel rejects a ceasefire with Hamas\n",
            "Israel has rejected a ceasefire and launched an operation in Rafah, raising fears that the war in Gaza could drag on.\n",
            "Published On 7 May 2024\n",
            "7 May 2024\n",
            "Zimbabwe’s illegal forex dealers use WhatsApp to find clients, evade police\n",
            "Zimbabwe clamps down on black market trading it blames for devaluing its new ZiG local currency.\n",
            "From gun gear to prosthetic leg covers, volunteers boost Ukraine’s army\n",
            "Thousands of Ukrainians are using innovative technology to support the military and injured veterans.\n",
            "A Eurovision like no other: Israel’s war on Gaza takes centre stage\n",
            "The annual singing show takes place in Malmo amid boycott calls, demonstrations, and alternative ‘genocide-free’ events.\n",
            "Published On 6 May 2024\n",
            "6 May 2024\n",
            "‘Serious job’: How a collective in election-bound India fights hate speech\n",
            "Hate Speech Beda trains volunteers from across the southern state of Karnataka on using the law to combat hate crimes.\n",
            "See full coverage\n",
            "Can Jacob Zuma emerge as kingmaker in South Africa’s election?\n",
            "Zuma’s MK party is gaining in polls while ANC support slips. But is he still as influential outside the ruling party?\n",
            "aj-logo\n",
            "Most popular\n",
            "Israel’s war on Gaza updates: In Rafah ‘extreme fear and endless anxiety’\n",
            "Joselu’s late double breaks Bayern Munich hearts as Real Madrid reach final\n",
            "loading\n",
            "Your browser does not support the audio element.\n",
            "audio-rewind\n",
            "audio-previous\n",
            "audio-play\n",
            "audio-next\n",
            "audio-forward\n",
            "0\n",
            "audio-volume-mute\n",
            "close\n",
            "About\n",
            "Show more\n",
            "About Us\n",
            "Code of Ethics\n",
            "Terms and Conditions\n",
            "EU/EEA Regulatory Notice\n",
            "Privacy Policy\n",
            "Cookie Policy\n",
            "Cookie Preferences\n",
            "Sitemap\n",
            "Work for us\n",
            "HR Quality\n",
            "Connect\n",
            "Contact Us\n",
            "User Accounts Help\n",
            "Advertise with us\n",
            "Apps\n",
            "Newsletters\n",
            "Channel Finder\n",
            "TV Schedule\n",
            "Submit a Tip\n",
            "Our Channels\n",
            "Al Jazeera Arabic\n",
            "Al Jazeera English\n",
            "Al Jazeera Investigative Unit\n",
            "Al Jazeera Mubasher\n",
            "Al Jazeera Documentary\n",
            "Al Jazeera Balkans\n",
            "AJ+\n",
            "Our Network\n",
            "Al Jazeera Centre for Studies\n",
            "Al Jazeera Media Institute\n",
            "Learn Arabic\n",
            "Al Jazeera Centre for Public Liberties & Human Rights\n",
            "Al Jazeera Forum\n",
            "Al Jazeera Hotel Partners\n",
            "Follow Al Jazeera English:\n",
            "facebook\n",
            "twitter\n",
            "youtube\n",
            "instagram-colored-outline\n",
            "rss\n",
            "© 2024 Al Jazeera Media Network\n"
          ]
        }
      ]
    },
    {
      "cell_type": "code",
      "source": [
        "from typing import List\n",
        "from datetime import date\n",
        "\n",
        "from pydantic import BaseModel, Field\n",
        "import instructor\n",
        "from openai import AsyncOpenAI\n",
        "\n",
        "class Outcome(BaseModel):\n",
        "    '''\n",
        "    Outcome is the likely outcome from an Event, taking into account\n",
        "    recent developments in obscure wars, as we believe their impact\n",
        "    is more nuanced and far reaching than the government realizes.\n",
        "    '''\n",
        "    description: str = Field(description=\"An unlikely but scary outcome description, one we didn't see coming\")\n",
        "    consequence: str = Field(description=\"The price that must be paid for progress. This is casualties, deaths, or other tragedies.\")\n",
        "    choices: List[str] = Field(description=\"A List of choices; only one of them will keep the world from ending\")\n",
        "    outcomes: List[str] = Field(description=\"A list of three outcomes; two are world ending outcomes and one keeps the world going\")\n",
        "\n",
        "class Event(BaseModel):\n",
        "    '''\n",
        "    Event is a possilbe World Ending event, with a list of possible outcomes\n",
        "    country and city fields should represent a real location\n",
        "    '''\n",
        "    country: str = Field(description=\"The country where the apocolyptic event is happening\")\n",
        "    city: str = Field(description=\"The city where the predicted pivitol event is happening\")\n",
        "    description: str = Field(description=\"A two to three sentance description of the event and its outcome\")\n",
        "    possible_outcomes: List[Outcome] = Field(description=\"three to five possible outcomes that are influenced by the location of this event\")\n",
        "\n",
        "    def report(self):\n",
        "        dct = self.model_dump()\n",
        "        dct[\"usage\"] = self._raw_response.usage.model_dump()\n",
        "        return dct\n",
        "\n",
        "class WorldEnder(BaseModel):\n",
        "    '''\n",
        "    An apocolyptic event that the human race, and likely the world, cannot come back from.\n",
        "    This will likely be a nuclear event. The consiquences will likely be long term fallout.\n",
        "    The class should tell the story of how we got here and why these things happened.\n",
        "    '''\n",
        "    kind: str = Field(description=\"What kind of world ending event was this? (astrological, biological, war, etc.)\")\n",
        "    description: str = Field(description=\"A detailed description of what happened, including the Events and Outcomes involved\")\n",
        "    death_toll: str = Field(description=\"The total estimated cost of human life as a readable number example: 1bil\")\n",
        "    survival_rate: float = Field(description=\"The percentage chance that any humans will survive the world ending event\", ge=0.0, le=1.0)\n",
        "\n",
        "    def report(self):\n",
        "        dct = self.model_dump()\n",
        "        dct[\"usage\"] = self._raw_response.usage.model_dump()\n",
        "        return dct\n",
        "\n",
        "\n",
        "aclient = instructor.patch(AsyncOpenAI())\n",
        "\n",
        "async def expand_query(\n",
        "    q, *, model: str = \"gpt-4-turbo\", temp: float = 0\n",
        ") -> Event:\n",
        "    return await aclient.chat.completions.create(\n",
        "        model=model,\n",
        "        temperature=temp,\n",
        "        response_model=Event,\n",
        "        messages=[\n",
        "            {\n",
        "                \"role\": \"system\",\n",
        "                \"content\": f\"You are WorldEnder.ai, the date is {date.today()}, you work with a human to predict the World Ender event/events. Use real locations for cities and countries.\",\n",
        "            },\n",
        "            {\"role\": \"user\", \"content\": f\"{q}\"},\n",
        "        ]\n",
        "    )\n",
        "\n",
        "async def expand_world_ender_query(\n",
        "    q, *, model: str = \"gpt-4-turbo\", temp: float = 0\n",
        ") -> WorldEnder:\n",
        "    return await aclient.chat.completions.create(\n",
        "        model=model,\n",
        "        temperature=temp,\n",
        "        response_model=WorldEnder,\n",
        "        messages=[\n",
        "            {\n",
        "                \"role\": \"system\",\n",
        "                \"content\": f\"You are WorldEnder.ai, the date is {date.today()}, return a detailed description of how this world ends and how humans continue existing. death_toll and survival_rate properties should be logical according to the way the world is ending.\",\n",
        "            },\n",
        "            {\"role\": \"user\", \"content\": f\"{q} USING THIS AJ DATA: {context}\"},\n",
        "        ]\n",
        "    )"
      ],
      "metadata": {
        "id": "AJDcJnuO6C9N"
      },
      "execution_count": 7,
      "outputs": []
    },
    {
      "cell_type": "code",
      "source": [
        "import asyncio\n",
        "import time\n",
        "import pandas as pd\n",
        "import wandb\n",
        "import json\n",
        "from helpers import dicts_to_df\n",
        "\n",
        "model = \"gpt-4-turbo\"\n",
        "temp = 0.7\n",
        "\n",
        "run = wandb.init(\n",
        "    project=\"WorldEnder.ai\",\n",
        "    config={\"model\": model, \"temp\": temp},\n",
        ")\n",
        "\n",
        "test_queries = [\n",
        "    \"The event will start in USA, and will be from internal struggle\",\n",
        "    \"Fire in the Amazon\",\n",
        "    \"Killer whales!\",\n",
        "    \"In an alternate timeline, the casualties from WW3 are heavy and there is not a lot of food. Russia and China are at war.\",\n",
        "]\n",
        "test_world_ender_queries = [\n",
        "    \"The event will start in USA, and will be from internal struggle A charismatic leader emerges, promising to restore order and unite the divided nation. we chose Support the leader and the leader was overthrown leading to more chaos. How does this world end?\",\n",
        "    \"Killer whales! We have developed a new kind of warfare and the whales have overpopulated the waters. Global tensions are high. How does this world end?\",\n",
        "    \"The Amazon fires fire causes a significant release of carbon, accelerating global warming. Promote renewable energy was chosen, but Continued global warming trends and Smoke from the fire affects air quality across South America.\",\n",
        "]\n",
        "start = time.perf_counter()\n",
        "queries = await asyncio.gather(\n",
        "    *[expand_query(q, model=model, temp=temp) for q in test_queries],\n",
        "    *[expand_world_ender_query(q, model=model, temp=temp) for q in test_world_ender_queries]\n",
        ")\n",
        "duration = time.perf_counter() - start\n",
        "\n",
        "with open(\"schema.json\", \"w+\") as f:\n",
        "    schema = Event.model_json_schema()\n",
        "    json.dump(schema, f, indent=2)\n",
        "\n",
        "with open(\"results.jsonlines\", \"w+\") as f:\n",
        "    for query in queries:\n",
        "        f.write(query.model_dump_json() + \"\\n\")\n",
        "\n",
        "df = dicts_to_df([q.report() for q in queries])\n",
        "df[\"input\"] = test_queries + test_world_ender_queries\n",
        "df.to_csv(\"results.csv\")\n",
        "\n",
        "\n",
        "run.log({\"schema\": wandb.Table(dataframe=pd.DataFrame([{\"schema\": schema}]))})\n",
        "\n",
        "run.log(\n",
        "    {\n",
        "        \"usage_total_tokens\": df[\"usage_total_tokens\"].sum(),\n",
        "        \"usage_completion_tokens\": df[\"usage_completion_tokens\"].sum(),\n",
        "        \"usage_prompt_tokens\": df[\"usage_prompt_tokens\"].sum(),\n",
        "        \"duration (s)\": duration,\n",
        "        \"average duration (s)\": duration / len(queries),\n",
        "        \"n_queries\": len(queries),\n",
        "    }\n",
        ")\n",
        "\n",
        "\n",
        "run.log(\n",
        "    {\n",
        "        \"results\": wandb.Table(dataframe=df),\n",
        "    }\n",
        ")\n",
        "\n",
        "files = wandb.Artifact(\"data\", type=\"dataset\")\n",
        "\n",
        "files.add_file(\"schema.json\")\n",
        "files.add_file(\"results.jsonlines\")\n",
        "files.add_file(\"results.csv\")\n",
        "\n",
        "run.log_artifact(files)\n",
        "run.finish()"
      ],
      "metadata": {
        "colab": {
          "base_uri": "https://localhost:8080/",
          "height": 511,
          "referenced_widgets": [
            "392cf28a9dcc48ca9827cf2cab90150c",
            "b1c7a6d788494cf2afe66a5af790390c",
            "7e04d57c80d84a2581eaf14f916ca9a9",
            "0a083b59e8a0428aa40c28752dae6627",
            "6086808cc205437ba5fa059adcb7123b",
            "37f8e7074207449c9afd257ce9f3c67d",
            "3a6862cba22c4ab684a6033359acce27",
            "4a678e1cfa4c4cac87dc799a311a7649",
            "8b006eab1f8a470da4d19046952bd101",
            "ce7eb9a70eb048d1a39ff2b6a95442d3",
            "6da745df439047038dff03012c951777",
            "6884941218f44e97a926ef03346801c2",
            "4dc55bb3e0f1435db522987a6b49c39a",
            "416bc73703ee42f8accfbec4701535c9",
            "0ad386fd67ed488086bf3460c5ef96e9",
            "6e3f1825d7eb4457831106eff0fad2e6"
          ]
        },
        "id": "r_-5TqWsctkU",
        "outputId": "25162a1a-e518-4544-84c0-b2bb8cbbb297"
      },
      "execution_count": 8,
      "outputs": [
        {
          "output_type": "display_data",
          "data": {
            "text/plain": [
              "<IPython.core.display.HTML object>"
            ],
            "text/html": [
              "Finishing last run (ID:14aayzzt) before initializing another..."
            ]
          },
          "metadata": {}
        },
        {
          "output_type": "display_data",
          "data": {
            "text/plain": [
              "VBox(children=(Label(value='0.015 MB of 0.015 MB uploaded\\r'), FloatProgress(value=1.0, max=1.0)))"
            ],
            "application/vnd.jupyter.widget-view+json": {
              "version_major": 2,
              "version_minor": 0,
              "model_id": "392cf28a9dcc48ca9827cf2cab90150c"
            }
          },
          "metadata": {}
        },
        {
          "output_type": "display_data",
          "data": {
            "text/plain": [
              "<IPython.core.display.HTML object>"
            ],
            "text/html": [
              " View run <strong style=\"color:#cdcd00\">atomic-armadillo-18</strong> at: <a href='https://wandb.ai/keppylab/WorldEnder.ai/runs/14aayzzt' target=\"_blank\">https://wandb.ai/keppylab/WorldEnder.ai/runs/14aayzzt</a><br/> View project at: <a href='https://wandb.ai/keppylab/WorldEnder.ai' target=\"_blank\">https://wandb.ai/keppylab/WorldEnder.ai</a><br/>Synced 5 W&B file(s), 0 media file(s), 0 artifact file(s) and 0 other file(s)"
            ]
          },
          "metadata": {}
        },
        {
          "output_type": "display_data",
          "data": {
            "text/plain": [
              "<IPython.core.display.HTML object>"
            ],
            "text/html": [
              "Find logs at: <code>./wandb/run-20240509_051932-14aayzzt/logs</code>"
            ]
          },
          "metadata": {}
        },
        {
          "output_type": "display_data",
          "data": {
            "text/plain": [
              "<IPython.core.display.HTML object>"
            ],
            "text/html": [
              "Successfully finished last run (ID:14aayzzt). Initializing new run:<br/>"
            ]
          },
          "metadata": {}
        },
        {
          "output_type": "display_data",
          "data": {
            "text/plain": [
              "<IPython.core.display.HTML object>"
            ],
            "text/html": [
              "Tracking run with wandb version 0.17.0"
            ]
          },
          "metadata": {}
        },
        {
          "output_type": "display_data",
          "data": {
            "text/plain": [
              "<IPython.core.display.HTML object>"
            ],
            "text/html": [
              "Run data is saved locally in <code>/content/wandb/run-20240509_052010-bq3brj77</code>"
            ]
          },
          "metadata": {}
        },
        {
          "output_type": "display_data",
          "data": {
            "text/plain": [
              "<IPython.core.display.HTML object>"
            ],
            "text/html": [
              "Syncing run <strong><a href='https://wandb.ai/keppylab/WorldEnder.ai/runs/bq3brj77' target=\"_blank\">royal-forest-19</a></strong> to <a href='https://wandb.ai/keppylab/WorldEnder.ai' target=\"_blank\">Weights & Biases</a> (<a href='https://wandb.me/run' target=\"_blank\">docs</a>)<br/>"
            ]
          },
          "metadata": {}
        },
        {
          "output_type": "display_data",
          "data": {
            "text/plain": [
              "<IPython.core.display.HTML object>"
            ],
            "text/html": [
              " View project at <a href='https://wandb.ai/keppylab/WorldEnder.ai' target=\"_blank\">https://wandb.ai/keppylab/WorldEnder.ai</a>"
            ]
          },
          "metadata": {}
        },
        {
          "output_type": "display_data",
          "data": {
            "text/plain": [
              "<IPython.core.display.HTML object>"
            ],
            "text/html": [
              " View run at <a href='https://wandb.ai/keppylab/WorldEnder.ai/runs/bq3brj77' target=\"_blank\">https://wandb.ai/keppylab/WorldEnder.ai/runs/bq3brj77</a>"
            ]
          },
          "metadata": {}
        },
        {
          "output_type": "display_data",
          "data": {
            "text/plain": [
              "VBox(children=(Label(value='0.063 MB of 0.063 MB uploaded (0.002 MB deduped)\\r'), FloatProgress(value=1.0, max…"
            ],
            "application/vnd.jupyter.widget-view+json": {
              "version_major": 2,
              "version_minor": 0,
              "model_id": "8b006eab1f8a470da4d19046952bd101"
            }
          },
          "metadata": {}
        },
        {
          "output_type": "display_data",
          "data": {
            "text/plain": [
              "<IPython.core.display.HTML object>"
            ],
            "text/html": [
              "W&B sync reduced upload amount by 3.1%             "
            ]
          },
          "metadata": {}
        },
        {
          "output_type": "display_data",
          "data": {
            "text/plain": [
              "<IPython.core.display.HTML object>"
            ],
            "text/html": [
              "<style>\n",
              "    table.wandb td:nth-child(1) { padding: 0 10px; text-align: left ; width: auto;} td:nth-child(2) {text-align: left ; width: 100%}\n",
              "    .wandb-row { display: flex; flex-direction: row; flex-wrap: wrap; justify-content: flex-start; width: 100% }\n",
              "    .wandb-col { display: flex; flex-direction: column; flex-basis: 100%; flex: 1; padding: 10px; }\n",
              "    </style>\n",
              "<div class=\"wandb-row\"><div class=\"wandb-col\"><h3>Run history:</h3><br/><table class=\"wandb\"><tr><td>average duration (s)</td><td>▁</td></tr><tr><td>duration (s)</td><td>▁</td></tr><tr><td>n_queries</td><td>▁</td></tr><tr><td>usage_completion_tokens</td><td>▁</td></tr><tr><td>usage_prompt_tokens</td><td>▁</td></tr><tr><td>usage_total_tokens</td><td>▁</td></tr></table><br/></div><div class=\"wandb-col\"><h3>Run summary:</h3><br/><table class=\"wandb\"><tr><td>average duration (s)</td><td>3.60274</td></tr><tr><td>duration (s)</td><td>25.21918</td></tr><tr><td>n_queries</td><td>7</td></tr><tr><td>usage_completion_tokens</td><td>2213</td></tr><tr><td>usage_prompt_tokens</td><td>5920</td></tr><tr><td>usage_total_tokens</td><td>8133</td></tr></table><br/></div></div>"
            ]
          },
          "metadata": {}
        },
        {
          "output_type": "display_data",
          "data": {
            "text/plain": [
              "<IPython.core.display.HTML object>"
            ],
            "text/html": [
              " View run <strong style=\"color:#cdcd00\">royal-forest-19</strong> at: <a href='https://wandb.ai/keppylab/WorldEnder.ai/runs/bq3brj77' target=\"_blank\">https://wandb.ai/keppylab/WorldEnder.ai/runs/bq3brj77</a><br/> View project at: <a href='https://wandb.ai/keppylab/WorldEnder.ai' target=\"_blank\">https://wandb.ai/keppylab/WorldEnder.ai</a><br/>Synced 4 W&B file(s), 2 media file(s), 5 artifact file(s) and 0 other file(s)"
            ]
          },
          "metadata": {}
        },
        {
          "output_type": "display_data",
          "data": {
            "text/plain": [
              "<IPython.core.display.HTML object>"
            ],
            "text/html": [
              "Find logs at: <code>./wandb/run-20240509_052010-bq3brj77/logs</code>"
            ]
          },
          "metadata": {}
        }
      ]
    },
    {
      "cell_type": "code",
      "source": [
        "'{0:.2%}'.format(df['survival_rate'][4])"
      ],
      "metadata": {
        "colab": {
          "base_uri": "https://localhost:8080/",
          "height": 35
        },
        "id": "7bqd0ryjjdPC",
        "outputId": "3f53970d-4ac3-4b37-a448-98c1362bc2cf"
      },
      "execution_count": 9,
      "outputs": [
        {
          "output_type": "execute_result",
          "data": {
            "text/plain": [
              "'10.00%'"
            ],
            "application/vnd.google.colaboratory.intrinsic+json": {
              "type": "string"
            }
          },
          "metadata": {},
          "execution_count": 9
        }
      ]
    },
    {
      "cell_type": "code",
      "source": [
        "import math\n",
        "from typing_extensions import Literal\n",
        "\n",
        "CURRENT_WORLD_POP = 8019876189\n",
        "LOG_MULTIPLIER = 1\n",
        "DAY = 0\n",
        "\n",
        "class Location:\n",
        "    '''\n",
        "    Location represents a point on the globe, and should have a city and country.\n",
        "    Locations can have a parent and many children for graph search.\n",
        "    '''\n",
        "    def __init__(self, lat: float, long: float):\n",
        "        self.lat: float = lat\n",
        "        self.long: float = long\n",
        "        self.parent: Location = None\n",
        "        self.children: List[Location] = []\n",
        "        self.destroyed: bool = False\n",
        "\n",
        "    def destroy(self):\n",
        "        '''\n",
        "        Mark this location node as destroyed\n",
        "        '''\n",
        "        self.destroyed = True\n",
        "\n",
        "class World:\n",
        "    '''\n",
        "    World for the WorldEnder.ai simulation\n",
        "    The population ticks down according to the log_multiplier, which is set by\n",
        "    the events in the game. Locations are visited and destroyed as the run\n",
        "    progresses.\n",
        "    '''\n",
        "    def __init__(self, data: pd.DataFrame):\n",
        "        self.current_location: Location = None\n",
        "        self.day: int = DAY\n",
        "        self.destroyed_locations: List[Location] = []\n",
        "        self.df = data\n",
        "        self.locations: List[Location] = []\n",
        "        self.population: int = CURRENT_WORLD_POP\n",
        "        self.log_multiplier: int = LOG_MULTIPLIER\n",
        "        self.epoch: Literal[\"Apocalyptic\", \"Post-Apocalyptic\", \"Post-Post-Apocalyptic\"] = \"Apocalyptic\"\n",
        "\n",
        "    def tick(self):\n",
        "        '''\n",
        "        tick increments the day int by 1 and sets:\n",
        "        population := population - population / log(population) * log_multiplier\n",
        "        '''\n",
        "        self.day += 1\n",
        "        self.population = math.floor(self.population - (self.population / math.log(self.population) * self.log_multiplier))\n",
        "        print(f'{self.population:,}')\n",
        "\n",
        "    def travel(self, Location):\n",
        "        '''\n",
        "        travel to a new location and record the previous location\n",
        "        '''\n",
        "        self.locations.append(self.current_location)\n",
        "        self.current_location = Location\n",
        "\n",
        "    def destroy_location(self, location: Location):\n",
        "        '''\n",
        "        destroy_location calls destroy() on the location and appends it to the\n",
        "        destroyed_locations list\n",
        "        '''\n",
        "        location.destroy()\n",
        "        self.destroyed_locations.append(location)\n",
        "\n",
        "world = World(df)\n",
        "print(f'{world.population:,}')\n",
        "world.tick()\n",
        "world.tick()\n",
        "world.tick()\n",
        "world.tick()\n",
        "world.tick()\n",
        "world.tick()\n",
        "world.tick()\n",
        "world.tick()\n",
        "world.tick()\n",
        "world.tick()\n",
        "print(world.destroyed_locations)"
      ],
      "metadata": {
        "colab": {
          "base_uri": "https://localhost:8080/"
        },
        "id": "yfrayN8RSziG",
        "outputId": "10d54ee1-659e-4993-ba2e-e3441bb49cf6"
      },
      "execution_count": 10,
      "outputs": [
        {
          "output_type": "stream",
          "name": "stdout",
          "text": [
            "8,019,876,189\n",
            "7,668,207,266\n",
            "7,331,296,466\n",
            "7,008,551,077\n",
            "6,699,401,169\n",
            "6,403,298,756\n",
            "6,119,716,988\n",
            "5,848,149,369\n",
            "5,588,109,008\n",
            "5,339,127,889\n",
            "5,100,756,174\n",
            "[]\n"
          ]
        }
      ]
    },
    {
      "cell_type": "markdown",
      "source": [
        "## Gameplay\n",
        "As we have gathered so far the world ticks down and the objective is to get your world to last longer than other worlds. There is also a re-population aspect. The only lever the player has is text input. You get a chance to plead your case, in a sense, at arbitrary-psuedo-random population levels.\n",
        "\n",
        "The current world population gets fed back in to the LLM to generate information about the world state at given times.\n",
        "\n",
        "When something really bad happens, the log multiplier multiplies."
      ],
      "metadata": {
        "id": "Ig9UoJCXLZyT"
      }
    },
    {
      "cell_type": "code",
      "source": [
        "class Loop:\n",
        "    def __init__(self, world: World):\n",
        "        self.world = world\n",
        "        self.start()\n",
        "\n",
        "    def start(self):\n",
        "        while True:\n",
        "            self.world.tick()\n",
        "            time.sleep(1)"
      ],
      "metadata": {
        "id": "qBsMKnhcMdZ-"
      },
      "execution_count": 11,
      "outputs": []
    }
  ]
}